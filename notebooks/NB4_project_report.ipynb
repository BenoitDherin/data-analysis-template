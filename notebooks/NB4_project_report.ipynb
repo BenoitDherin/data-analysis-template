{
 "metadata": {
  "name": ""
 },
 "nbformat": 3,
 "nbformat_minor": 0,
 "worksheets": [
  {
   "cells": [
    {
     "cell_type": "markdown",
     "metadata": {},
     "source": [
      "In this notebook, you'll sumarize your finding for the class presentation. \n",
      "\n",
      "\n",
      "The class presentation will use this notebook in slide mode, as I do during lecture time.\n",
      "\n",
      "You'll need to download the following [zip file](https://github.com/fperez/nb-slideshow-template/archive/master.zip), unzip it, and run the following notebook <code>install-support.ipynb</code> to install the slide capabilities.\n",
      "\n",
      "The notebook <code>notebook-slideshow-example.ipynb</code> will give you examples on how to use slides within the iPython notebook.  \n",
      "\n",
      "You should also write this notebook so that you can convert it nicely into a pdf document using the commands\n",
      "\n",
      "    ipython nbconvert NB4_report.pynb --to latex\n",
      "    pdflatex NB4_report.tex\n",
      "    \n",
      "See [here](http://ipython.org/ipython-doc/rel-1.0.0/interactive/nbconvert.html) for further references on how to do that. \n",
      "\n",
      "In this notebook, you'll\n",
      "\n",
      "* describe your problem as stated in the propectus \n",
      " \n",
      " \n",
      "* comment on your data sources, on their format, on the difficulties to get them\n",
      "\n",
      "\n",
      "* present the main challenge you encountered\n",
      "\n",
      "\n",
      "* present your finding in the form of expresive graphics\n",
      "\n",
      "Be sure to include an introduction section motivating your visualizations, with a description of the substantive context and why it is interesting.\n",
      "\n",
      "\n",
      "Cite the source of the data and any other references that you used in carrying out your project.\n"
     ]
    },
    {
     "cell_type": "markdown",
     "metadata": {},
     "source": [
      "##Team members responsible for this notebook:\n",
      "\n",
      "List the team members contributing to this notebook, along with their responsabilities:\n",
      "\n",
      "* team member 1 **name**: team member 1 **responsabilities**\n",
      "* team member 2 **name**: team member 2 **responsabilities**\n",
      "* etc.\n",
      "\n",
      "I advise you to work at least in pairs for each project notebook, as you did for the homework assignments. Of course, all team members may participate to each notebook. "
     ]
    }
   ],
   "metadata": {}
  }
 ]
}